{
  "nbformat": 4,
  "nbformat_minor": 0,
  "metadata": {
    "colab": {
      "name": "Copy of Untitled9.ipynb",
      "provenance": [],
      "collapsed_sections": []
    },
    "kernelspec": {
      "name": "python3",
      "display_name": "Python 3"
    },
    "language_info": {
      "name": "python"
    }
  },
  "cells": [
    {
      "cell_type": "markdown",
      "metadata": {
        "id": "eKXtQ1_OMCfE"
      },
      "source": [
        "# ***The Sparks Foundation GRIP JUNE 2021***\n",
        "###Task 1 : Prediction using Supervised Machine Learning\n",
        "By - Jatin Soni"
      ]
    },
    {
      "cell_type": "markdown",
      "metadata": {
        "id": "8majiqJnZmdN"
      },
      "source": [
        "# ***Simple Linear Regression***"
      ]
    },
    {
      "cell_type": "markdown",
      "metadata": {
        "id": "EPARg7rFaLbw"
      },
      "source": [
        "***Importing Libraries***"
      ]
    },
    {
      "cell_type": "code",
      "metadata": {
        "id": "yMikAknxG7j3"
      },
      "source": [
        "import pandas as pd\n",
        "import matplotlib.pyplot as plt\n",
        "import numpy as np "
      ],
      "execution_count": null,
      "outputs": []
    },
    {
      "cell_type": "markdown",
      "metadata": {
        "id": "jA4VhH5xbe6V"
      },
      "source": [
        "***Importing the Dataset***"
      ]
    },
    {
      "cell_type": "code",
      "metadata": {
        "id": "gtlwvCs9HGjo"
      },
      "source": [
        "dataset = pd.read_csv('TheSparkFoundation_project1.csv')\n",
        "x = dataset.iloc[:, :-1].values\n",
        "y = dataset.iloc[:, -1].values"
      ],
      "execution_count": null,
      "outputs": []
    },
    {
      "cell_type": "code",
      "metadata": {
        "id": "rABEzw63HUPR"
      },
      "source": [
        "dataset.head()"
      ],
      "execution_count": null,
      "outputs": []
    },
    {
      "cell_type": "code",
      "metadata": {
        "id": "YfHIrVSNUC2c"
      },
      "source": [
        "dataset.info()"
      ],
      "execution_count": null,
      "outputs": []
    },
    {
      "cell_type": "markdown",
      "metadata": {
        "id": "sAhVhMIwai5f"
      },
      "source": [
        "***Splitting the Dataset into Training ans Test Set***"
      ]
    },
    {
      "cell_type": "code",
      "metadata": {
        "id": "73oABsE-Hok5"
      },
      "source": [
        "from sklearn.model_selection import train_test_split\n",
        "x_train, x_test, y_train, y_test = train_test_split(x, y, test_size= 0.3, random_state = 0 )"
      ],
      "execution_count": null,
      "outputs": []
    },
    {
      "cell_type": "markdown",
      "metadata": {
        "id": "wcdtBV1taxen"
      },
      "source": [
        "***Training the Simple Linear Regression model on the Training Set***"
      ]
    },
    {
      "cell_type": "code",
      "metadata": {
        "id": "DqOGp1W_HoiU"
      },
      "source": [
        "from sklearn.linear_model import LinearRegression\n",
        "regressor = LinearRegression()\n",
        "regressor.fit(x_train, y_train)"
      ],
      "execution_count": null,
      "outputs": []
    },
    {
      "cell_type": "markdown",
      "metadata": {
        "id": "NPo0pUDFbAi6"
      },
      "source": [
        "***Predicting the Teat Results***"
      ]
    },
    {
      "cell_type": "code",
      "metadata": {
        "id": "42WKTjVBHofm"
      },
      "source": [
        "y_pred = regressor.predict(x_test)"
      ],
      "execution_count": null,
      "outputs": []
    },
    {
      "cell_type": "markdown",
      "metadata": {
        "id": "naJ6YCoqbH1l"
      },
      "source": [
        "***Visualising the Training Set Results***"
      ]
    },
    {
      "cell_type": "code",
      "metadata": {
        "id": "5_Op17AkHocD"
      },
      "source": [
        "plt.scatter(x_train, y_train, color = 'blue')\n",
        "plt.plot(x_train, regressor.predict(x_train), color ='grey' )\n",
        "plt.title('Hours vs Score (Training Set)')\n",
        "plt.xlabel('Hours of Study')\n",
        "plt.ylabel('Display score')\n",
        "plt.show()"
      ],
      "execution_count": null,
      "outputs": []
    },
    {
      "cell_type": "markdown",
      "metadata": {
        "id": "HKy9-x_0bYZC"
      },
      "source": [
        "***Visualising the Test Set Results*** "
      ]
    },
    {
      "cell_type": "code",
      "metadata": {
        "id": "PJ-zlWqbHoVz"
      },
      "source": [
        "plt.scatter(x_test, y_test, color = 'blue')\n",
        "plt.plot(x_train, regressor.predict(x_train), color ='grey' )\n",
        "plt.title('Hours vs Score (Training Set)')\n",
        "plt.xlabel('Hours of Study')\n",
        "plt.ylabel('Display score')\n",
        "plt.show()"
      ],
      "execution_count": null,
      "outputs": []
    },
    {
      "cell_type": "markdown",
      "metadata": {
        "id": "L_AuwVVqb0X4"
      },
      "source": [
        "\n",
        "\n",
        "\n",
        "\n",
        "\n",
        "***Predicting  Score Result If  Hours = 9.25***"
      ]
    },
    {
      "cell_type": "code",
      "metadata": {
        "id": "0kukrGPBHoQ_"
      },
      "source": [
        "hours = [[9.25]]  \n",
        "own_pred = regressor.predict(hours)  \n",
        "print(\"Number of hours = {}\".format(hours))  \n",
        "print(\"Prediction Score = {}\".format(own_pred[0]))"
      ],
      "execution_count": null,
      "outputs": []
    }
  ]
}
